{
 "cells": [
  {
   "cell_type": "markdown",
   "metadata": {},
   "source": [
    "# Lab 3 Lesson\n",
    "\n",
    "## Introduction to Python, Part 2\n",
    "\n",
    "**Topics**\n",
    "\n",
    "* functions\n",
    "* reading documentation\n",
    "* importing packages\n",
    "* random numbers\n",
    "* while loops\n",
    "* for loops\n",
    "* looping infinitely\n",
    "* `break` and `continue` statements\n",
    "* manipulating strings\n",
    "\n",
    "This lecture is centered around your reading for this week, chapters 4, 5, and 6 of *Python for Everyone*. \n",
    "\n",
    "For your reference:\n",
    "\n",
    "* [Chapter 4: Functions](https://www.py4e.com/html3/04-functions)\n",
    "* [Chapter 5: Iterations](https://www.py4e.com/html3/05-iterations)\n",
    "* [Chapter 6: Strings](https://www.py4e.com/html3/06-strings)"
   ]
  },
  {
   "cell_type": "markdown",
   "metadata": {},
   "source": [
    "## Functions\n",
    "\n",
    "A **function**, most basically, is a group of code that executes together when you call its name."
   ]
  },
  {
   "cell_type": "code",
   "execution_count": null,
   "metadata": {},
   "outputs": [],
   "source": [
    "def my_cool_function():\n",
    "    print(\"I'm so cool.\")\n",
    "    print(\"Just look at what everyone calls me.\")\n",
    "    \n",
    "my_cool_function()"
   ]
  },
  {
   "cell_type": "markdown",
   "metadata": {},
   "source": [
    "Functions can have **arguments**, which are variables that the function can do stuff with. You **pass** a variable to a function by putting it in the parentheses after the function name."
   ]
  },
  {
   "cell_type": "code",
   "execution_count": null,
   "metadata": {},
   "outputs": [],
   "source": [
    "def hello(name):\n",
    "    print(\"Hello,\", name)\n",
    "    \n",
    "hello(\"Bob\")\n",
    "hello(\"everyone\")"
   ]
  },
  {
   "cell_type": "markdown",
   "metadata": {},
   "source": [
    "All the code in a function is in a **block**, which, for Python, means that it's at the same indentation level. When you're done defining a function, just hit the backspace key until you're back at the normal indentation level. It's not required, but it's good practics to include a blank line after a function definition.\n",
    "\n",
    "You can reference functions from other functions. When you call a function, all of its code runs like normal."
   ]
  },
  {
   "cell_type": "code",
   "execution_count": null,
   "metadata": {},
   "outputs": [],
   "source": [
    "def lyrics():\n",
    "    print(\"This is the song that never ends.\")\n",
    "    print(\"It goes on and on, my friends.\")\n",
    "\n",
    "def song():\n",
    "    lyrics()\n",
    "    lyrics()\n",
    "    \n",
    "song()"
   ]
  },
  {
   "cell_type": "markdown",
   "metadata": {},
   "source": [
    "We'll revisit the song that never ends when we talk about **infinite loops**. :)\n",
    "\n",
    "One last thing: functions can **return** values, but they don't have to. Returning a value means that wherever you call the function, you can \"catch\" that value in a variable and use it in your program. This one's a little hard to see, but we'll look at a few examples."
   ]
  },
  {
   "cell_type": "code",
   "execution_count": null,
   "metadata": {},
   "outputs": [],
   "source": [
    "def add_three(num1, num2, num3):\n",
    "    sum = num1 + num2 + num3;\n",
    "    return sum\n",
    "\n",
    "my_sum = add_three(1, 2, 3)\n",
    "\n",
    "print(my_sum)"
   ]
  },
  {
   "cell_type": "code",
   "execution_count": null,
   "metadata": {},
   "outputs": [],
   "source": [
    "def whats_my_name():\n",
    "    return \"Sean Bailey\"\n",
    "\n",
    "whats_my_name()\n",
    "\n",
    "my_name = whats_my_name()"
   ]
  },
  {
   "cell_type": "code",
   "execution_count": null,
   "metadata": {},
   "outputs": [],
   "source": [
    "my_number = int(\"200\") # is there a value being returned here?"
   ]
  },
  {
   "cell_type": "code",
   "execution_count": null,
   "metadata": {},
   "outputs": [],
   "source": [
    "stuff = print(\"Lorem ipsum dolor sit amet\")\n",
    "print(stuff)"
   ]
  },
  {
   "cell_type": "markdown",
   "metadata": {},
   "source": [
    "## Documentation\n",
    "\n",
    "Python, like most other languages, has extensive official **documentation** available online. In your lab exercises this week, there are a few points where you'll have to read and interpret documentation. \n",
    "\n",
    "Take a short look at the [standard function documentation](https://docs.python.org/3/library/functions.html). Skimming documentation is a useful skill. Don't spend too much time reading the minutiae, but you should familiarize yourself, in broad strokes, with what you can do in Python with the library functions."
   ]
  },
  {
   "cell_type": "markdown",
   "metadata": {},
   "source": [
    "## Packages\n",
    "\n",
    "Functions provided to you, the programmer, can be grouped into **packages** for distribution purposes. Don't worry about the specifics of that right now. Python provides a bunch of packages standard, but the Python community is legendary for writing packages concerning basically anything you could possibly want to do with Python.\n",
    "\n",
    "The only thing that's relevant right now, package-wise, is **importing**. Importing a package is simple: at the top of a Python file, just put the words `import` and the package name you want to import. Simple, huh?"
   ]
  },
  {
   "cell_type": "markdown",
   "metadata": {},
   "source": [
    "## Random Numbers\n",
    "\n",
    "The standard Python package `random` provides the ability to generate **pseudorandom numbers**. (Don't use these for cryptography or security.) The easiest way to dip your toes into random numbers is to just generate some, so let's run some sample code."
   ]
  },
  {
   "cell_type": "code",
   "execution_count": null,
   "metadata": {},
   "outputs": [],
   "source": [
    "import random # see how easy that is?\n",
    "\n",
    "x = random.random()\n",
    "print(x)"
   ]
  },
  {
   "cell_type": "markdown",
   "metadata": {},
   "source": [
    "Run that a few times. What can you tell about the numbers that the `random()` function is generating?\n",
    "\n",
    "(Side note: you run functions from a package using a dot! So, `pizza.list_toppings()` is the `list_toppings()` function from the package named `pizza`.)\n",
    "\n",
    "Generating just decimals is useful for a lot of things, and you'll find that the default random number generator in a lot of programming languages will do the same thing that Python does. But there's one that you'll use a lot more, at least right now: `randint()`. Let's take a look:"
   ]
  },
  {
   "cell_type": "code",
   "execution_count": null,
   "metadata": {},
   "outputs": [],
   "source": [
    "random.randint(5, 10)"
   ]
  },
  {
   "cell_type": "markdown",
   "metadata": {},
   "source": [
    "Let's break down this function a bit. \n",
    "\n",
    "* arguments: `5` and `10`\n",
    "* range: from the first argument to the second argument\n",
    "* return value: a number, between `5` and `10`, of type `Int`"
   ]
  },
  {
   "cell_type": "markdown",
   "metadata": {},
   "source": [
    "Random numbers in Python can be useful if you want a bunch of sample data to test out a function. It's easier to write a loop to generate 10,000 random integers between 0 and 1 million than it is to type them in manually. (Duh.)"
   ]
  },
  {
   "cell_type": "markdown",
   "metadata": {},
   "source": [
    "With that in mind, let's talk about...\n",
    "\n",
    "## Loops\n",
    "\n",
    "Loops, most basically, allow you to tell a program to run an arbitrary section of code an arbitrary number of times. "
   ]
  },
  {
   "cell_type": "code",
   "execution_count": null,
   "metadata": {},
   "outputs": [],
   "source": [
    "n = 0\n",
    "while n < 10:\n",
    "    print(\"Current number:\", n)\n",
    "    n = n + 1"
   ]
  },
  {
   "cell_type": "markdown",
   "metadata": {},
   "source": [
    "That's a **while loop**, the simplest loop. It works like this: \n",
    "\n",
    "```\n",
    "while something:\n",
    "    do this stuff\n",
    "```\n",
    "\n",
    "At the beginning of each loop iteration, it'll test the `something`. If it's true, it'll run the code! If it's not, it'll move on to the next thing.\n",
    "\n",
    "`n` above is the counter for the loop. You can make a loop run a specified number of times by incrementing the counter in the body of the loop, so, each time the loop runs, the counter gets 1 added to it.\n",
    "\n",
    "You can use a while loop to loop infinitely, like so:"
   ]
  },
  {
   "cell_type": "raw",
   "metadata": {},
   "source": [
    "def lyrics():\n",
    "    print(\"This is the song that never ends.\")\n",
    "    print(\"It goes on and on, my friends.\")\n",
    "\n",
    "while True:\n",
    "    lyrics()"
   ]
  },
  {
   "cell_type": "markdown",
   "metadata": {},
   "source": [
    "**NOTE**: This code absolutely can make your computer hang, browser crash, Jupyter stop working. If you really want to run it, change the cell to a code cell. But you have been warned.\n",
    "\n",
    "It's probably a good idea to *avoid infinite loops*, in general. But, they can be tamed. You just have to `break` them."
   ]
  },
  {
   "cell_type": "code",
   "execution_count": null,
   "metadata": {},
   "outputs": [],
   "source": [
    "def lyrics():\n",
    "    print(\"This is the song that never ends.\")\n",
    "    print(\"It goes on and on, my friends.\")\n",
    "\n",
    "while True:\n",
    "    lyrics()\n",
    "    break"
   ]
  },
  {
   "cell_type": "markdown",
   "metadata": {},
   "source": [
    "So what happened there?\n",
    "\n",
    "![what happened](https://media.giphy.com/media/l0K4jGaVVyKtRBfMs/giphy.gif)\n",
    "\n",
    "Since we used a `break` statement, the infinite loop stopped after running only once. \n",
    "\n",
    "**For loops** are a little more fun: they let you play with sequences, like lists!"
   ]
  },
  {
   "cell_type": "code",
   "execution_count": null,
   "metadata": {},
   "outputs": [],
   "source": [
    "my_friends = [\"Bob\", \"Susan\", \"Noah\", \"Amanda\"]\n",
    "\n",
    "for friend in my_friends:\n",
    "    print(\"Hello,\", friend)"
   ]
  },
  {
   "cell_type": "markdown",
   "metadata": {},
   "source": [
    "Let's break that down a little.\n",
    "\n",
    "* no counter: If you want to see where you are in the loop, you need to handle that separately.\n",
    "* arbitrary names: `friend` doesn't mean anything outside of the loop.\n",
    "* iterating over a sequence: lists let you iterate sequentially through them, and have a specified order."
   ]
  },
  {
   "cell_type": "markdown",
   "metadata": {},
   "source": [
    "## String Manipulation\n",
    "\n",
    "There are two ways to approach dealing with strings:\n",
    "\n",
    "1. Learn a bunch of methods that do stuff, use them individually, and forget about them twenty minutes after you finish the exercise.\n",
    "\n",
    "2. Do some string manipulation. Remember that you can just Google for how to do Python string manipulation.\n",
    "\n",
    "So... who wants to memorize a list of methods?\n",
    "\n",
    "---\n",
    "**Group challenge:** string manipulation\n",
    "\n",
    "This is not part of your exercises for the week. It's a challenge for you to do in groups during the lab session. When you reach this point, find one or two people to work with.\n",
    "\n",
    "Below is a code cell. The `data` variable contains a sample email header string. Your job is to write some code that takes that string and gets rid of everything *but* the domain. You're given\n",
    "\n",
    "`From stephen.marquard@pitt.edu Sat Jan  5 09:14:16 2008`\n",
    "\n",
    "and you want to get\n",
    "\n",
    "`pitt.edu`\n",
    "\n",
    "You can imagine this being used in spam filtering on email servers. It's important for this to work with any potential email address. I should be able to replace ` stephen.marquard@pitt.edu` with ` spb60@pitt.edu` or with ` stephen.marquard@google.com` and your code should still get me the domain of the email address.\n",
    "\n",
    "The Python 3 string documentation is here: [https://docs.python.org/3/library/string.html](https://docs.python.org/3/library/string.html). It's going to be your best friend. \n",
    "\n",
    "We'll look at some solutions before we leave today, but there are several good ways to approach this problem. If you need a hint, here you go:\n",
    "\n",
    "* Is there anything that is going to *always* come before the thing you want? Anything that's the same across every email address?\n",
    "\n",
    "Stuck? Just raise your hand. I'll come get you started."
   ]
  },
  {
   "cell_type": "code",
   "execution_count": null,
   "metadata": {},
   "outputs": [],
   "source": [
    "data = \"From stephen.marquard@pitt.edu Sat Jan  5 09:14:16 2008\"\n",
    "\n",
    "# what we want: just the url (pitt.edu)"
   ]
  }
 ],
 "metadata": {
  "kernelspec": {
   "display_name": "Python 3",
   "language": "python",
   "name": "python3"
  },
  "language_info": {
   "codemirror_mode": {
    "name": "ipython",
    "version": 3
   },
   "file_extension": ".py",
   "mimetype": "text/x-python",
   "name": "python",
   "nbconvert_exporter": "python",
   "pygments_lexer": "ipython3",
   "version": "3.8.3"
  }
 },
 "nbformat": 4,
 "nbformat_minor": 4
}
